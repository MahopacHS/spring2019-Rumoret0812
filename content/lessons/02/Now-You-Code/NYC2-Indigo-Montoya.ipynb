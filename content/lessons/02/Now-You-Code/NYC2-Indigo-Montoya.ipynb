{
  "cells": [
    {
      "metadata": {},
      "cell_type": "markdown",
      "source": "# Now You Code 2: Indigo Montoya\n\n[The Pricess Bride](https://www.rottentomatoes.com/m/princess_bride/) is an adventure film from the 80's, a true cult classic. One of the many notable scenes involves a character Indigo Montoya who explains his character's motivation for revenge through the catch-phase:\n\n\"Hello. My name is Indigo Montoya. You killed my father. Prepare to die!\"\n\nYou can watch the clip here: [https://www.youtube.com/watch?v=YY4cnMmo9qw](https://www.youtube.com/watch?v=YY4cnMmo9qw)\n\nWrite a program in Python which asks the user to enter **your name**, a **relative** and an **past-tense action**. For example if you enter \"Indigo Montoya\", \"Father\" and \"killed\", the program will then output:\n\n\"Hello. My name is Indigo Montoya. You killed my father. Prepare to die!\"\n\nOr you could input \"Mike Fudge\", \"Uncle\" and \"Tickled\" to get:\n\n\"Hello. My name is Mike Fudge. You Tickled my Uncle. Prepare to die!\"\n"
    },
    {
      "metadata": {
        "collapsed": true
      },
      "cell_type": "markdown",
      "source": "## Step 1: Problem Analysis\n\nInputs:\n- name\n- relative\n- action in past tense\n\nOutputs:\n- A sentence with the words you chose put into it\nAlgorithm (Steps in Program):\n- input the name\n- input the relative\n- input the action in past tense"
    },
    {
      "metadata": {
        "trusted": false
      },
      "cell_type": "code",
      "source": "# Step 2: Write code here\nname= input(\"enter a name\")\naction= input(\"enter a verb in past tense\")\nrelative= input(\"Enter a relative\") \nprint(\"Hello. My name is\", name + \".\" \"you\", action \"my\", relative + \". prepare to die!\")",
      "execution_count": 4,
      "outputs": []
    },
    {
      "metadata": {},
      "cell_type": "markdown",
      "source": "## Step 3: Questions\n\n1. What happens when neglect the instructions and enter a past-tense action instead of a name? Does the code still run? Why?\n2. What type of error it when the program runs but does not handle bad input?\n3. Is there anything you can do in code to correct this type of error? Why or why not?"
    },
    {
      "metadata": {},
      "cell_type": "markdown",
      "source": "## Reminder of Evaluation Criteria\n\n1. What the problem attempted (analysis, code, and answered questions) ?\n2. What the problem analysis thought out? (does the program match the plan?)\n3. Does the code execute without syntax error?\n4. Does the code solve the intended problem?\n5. Is the code well written? (easy to understand, modular, and self-documenting, handles errors)\n"
    },
    {
      "metadata": {
        "collapsed": true,
        "trusted": false
      },
      "cell_type": "code",
      "source": "your_name= input(\"what is your name\")\nprint",
      "execution_count": null,
      "outputs": []
    }
  ],
  "metadata": {
    "anaconda-cloud": {},
    "kernelspec": {
      "name": "python3",
      "display_name": "Python 3",
      "language": "python"
    },
    "language_info": {
      "codemirror_mode": {
        "name": "ipython",
        "version": 3
      },
      "file_extension": ".py",
      "mimetype": "text/x-python",
      "name": "python",
      "nbconvert_exporter": "python",
      "pygments_lexer": "ipython3",
      "version": "3.5.2"
    }
  },
  "nbformat": 4,
  "nbformat_minor": 1
}